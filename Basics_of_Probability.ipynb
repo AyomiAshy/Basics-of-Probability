{
  "nbformat": 4,
  "nbformat_minor": 0,
  "metadata": {
    "colab": {
      "provenance": [],
      "authorship_tag": "ABX9TyMF0usWkGnMtVkMdf+52oFp",
      "include_colab_link": true
    },
    "kernelspec": {
      "name": "python3",
      "display_name": "Python 3"
    },
    "language_info": {
      "name": "python"
    }
  },
  "cells": [
    {
      "cell_type": "markdown",
      "metadata": {
        "id": "view-in-github",
        "colab_type": "text"
      },
      "source": [
        "<a href=\"https://colab.research.google.com/github/AyomiAshy/Basics-of-Probability/blob/main/Basics_of_Probability.ipynb\" target=\"_parent\"><img src=\"https://colab.research.google.com/assets/colab-badge.svg\" alt=\"Open In Colab\"/></a>"
      ]
    },
    {
      "cell_type": "code",
      "source": [
        "import random\n",
        "def pickaball():\n",
        "  balls = [\"blue\", \"red\", \"green\"]\n",
        "  res = random.choice(balls)\n",
        "  prob_red = balls.count(\"red\")/len(balls)\n",
        "  print(\"The probability of picking a red ball is: \",  prob_red)\n",
        "  if res == \"red\":\n",
        "    print(\"Red ball picked\")\n",
        "  else:\n",
        "    print(\"Not a red ball\")\n",
        "pickaball()"
      ],
      "metadata": {
        "colab": {
          "base_uri": "https://localhost:8080/"
        },
        "id": "ytPAe3F70Ny1",
        "outputId": "7fbf430b-c18a-4b11-c8dc-0b5dd1a1bd8f"
      },
      "execution_count": 7,
      "outputs": [
        {
          "output_type": "stream",
          "name": "stdout",
          "text": [
            "The probability of picking a red ball is:  0.3333333333333333\n",
            "Red ball picked\n"
          ]
        }
      ]
    }
  ]
}